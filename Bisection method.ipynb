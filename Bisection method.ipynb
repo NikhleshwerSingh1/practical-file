{
  "nbformat": 4,
  "nbformat_minor": 0,
  "metadata": {
    "colab": {
      "name": "Untitled20.ipynb",
      "provenance": [],
      "authorship_tag": "ABX9TyP+KufzPwy+fPrr1eYY9AO+",
      "include_colab_link": true
    },
    "kernelspec": {
      "name": "python3",
      "display_name": "Python 3"
    },
    "language_info": {
      "name": "python"
    },
    "accelerator": "GPU",
    "gpuClass": "standard"
  },
  "cells": [
    {
      "cell_type": "markdown",
      "metadata": {
        "id": "view-in-github",
        "colab_type": "text"
      },
      "source": [
        "<a href=\"https://colab.research.google.com/github/NikhleshwerSingh1/practical-file/blob/main/Bisection%20method.ipynb\" target=\"_parent\"><img src=\"https://colab.research.google.com/assets/colab-badge.svg\" alt=\"Open In Colab\"/></a>"
      ]
    },
    {
      "cell_type": "code",
      "execution_count": 4,
      "metadata": {
        "colab": {
          "base_uri": "https://localhost:8080/"
        },
        "id": "kA8IQaH1R_EN",
        "outputId": "64246133-cdd0-4552-a691-2b08f7578409"
      },
      "outputs": [
        {
          "output_type": "stream",
          "name": "stdout",
          "text": [
            "First Guess: 3\n",
            "Second Guess: 1\n",
            "Tolerable Error: 0.00001\n",
            "\n",
            "\n",
            "*** BISECTION METHOD IMPLEMENTATION ***\n",
            "Iteration-1, x2 = 2.000000 and f(x2) = 2.000000\n",
            "Iteration-2, x2 = 1.500000 and f(x2) = -2.125000\n",
            "Iteration-3, x2 = 1.750000 and f(x2) = -0.390625\n",
            "Iteration-4, x2 = 1.875000 and f(x2) = 0.716797\n",
            "Iteration-5, x2 = 1.812500 and f(x2) = 0.141846\n",
            "Iteration-6, x2 = 1.781250 and f(x2) = -0.129608\n",
            "Iteration-7, x2 = 1.796875 and f(x2) = 0.004803\n",
            "Iteration-8, x2 = 1.789062 and f(x2) = -0.062730\n",
            "Iteration-9, x2 = 1.792969 and f(x2) = -0.029046\n",
            "Iteration-10, x2 = 1.794922 and f(x2) = -0.012142\n",
            "Iteration-11, x2 = 1.795898 and f(x2) = -0.003675\n",
            "Iteration-12, x2 = 1.796387 and f(x2) = 0.000563\n",
            "Iteration-13, x2 = 1.796143 and f(x2) = -0.001556\n",
            "Iteration-14, x2 = 1.796265 and f(x2) = -0.000497\n",
            "Iteration-15, x2 = 1.796326 and f(x2) = 0.000033\n",
            "Iteration-16, x2 = 1.796295 and f(x2) = -0.000232\n",
            "Iteration-17, x2 = 1.796310 and f(x2) = -0.000100\n",
            "Iteration-18, x2 = 1.796318 and f(x2) = -0.000033\n",
            "Iteration-19, x2 = 1.796322 and f(x2) = -0.000000\n",
            "\n",
            "Required Root is : 1.79632187\n"
          ]
        }
      ],
      "source": [
        "# Defining Function\n",
        "def f(x):\n",
        "    return x**3-x-41\n",
        "\n",
        "# Implementing Bisection Method\n",
        "def bisection(x0,x1,e):\n",
        "    step = 1\n",
        "    print('\\n\\n*** BISECTION METHOD IMPLEMENTATION ***')\n",
        "    condition = True\n",
        "    while condition:\n",
        "        x2 = (x0 + x1)/2\n",
        "        print('Iteration-%d, x2 = %0.6f and f(x2) = %0.6f' % (step, x2, f(x2)))\n",
        "\n",
        "        if f(x0) * f(x2) < 0:\n",
        "            x1 = x2\n",
        "        else:\n",
        "            x0 = x2\n",
        "        \n",
        "        step = step + 1\n",
        "        condition = abs(f(x2)) > e\n",
        "\n",
        "    print('\\nRequired Root is : %0.8f' % x2)\n",
        "    \n",
        "# Input Section\n",
        "x0 = input('First Guess: ')\n",
        "x1 = input('Second Guess: ')\n",
        "e = input('Tolerable Error: ')\n",
        "\n",
        "# Converting input to float\n",
        "x0 = float(x0)\n",
        "x1 = float(x1)\n",
        "e = float(e)\n",
        "\n",
        "#Note: You can combine above two section like this\n",
        "# x0 = float(input('First Guess: '))\n",
        "# x1 = float(input('Second Guess: '))\n",
        "# e = float(input('Tolerable Error: '))\n",
        "# Checking Correctness of initial guess values and bisecting\n",
        "if f(x0) * f(x1) > 0.0:\n",
        "    print('Given guess values do not bracket the root.')\n",
        "    print('Try Again with different guess values.')\n",
        "else:\n",
        "    bisection(x0,x1,e)\n",
        "\n",
        "\n",
        "\n"
      ]
    }
  ]
}