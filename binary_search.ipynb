{
  "nbformat": 4,
  "nbformat_minor": 0,
  "metadata": {
    "colab": {
      "name": "binary search.ipynb",
      "provenance": [],
      "authorship_tag": "ABX9TyN2zlOHXjHqdeNrg1w4eiSh",
      "include_colab_link": true
    },
    "kernelspec": {
      "name": "python3",
      "display_name": "Python 3"
    },
    "language_info": {
      "name": "python"
    }
  },
  "cells": [
    {
      "cell_type": "markdown",
      "metadata": {
        "id": "view-in-github",
        "colab_type": "text"
      },
      "source": [
        "<a href=\"https://colab.research.google.com/github/NikhleshwerSingh1/practical-file/blob/main/binary_search.ipynb\" target=\"_parent\"><img src=\"https://colab.research.google.com/assets/colab-badge.svg\" alt=\"Open In Colab\"/></a>"
      ]
    },
    {
      "cell_type": "code",
      "execution_count": 1,
      "metadata": {
        "colab": {
          "base_uri": "https://localhost:8080/"
        },
        "id": "62mmFJECk6pY",
        "outputId": "4b518427-7d6d-46d9-8be4-7c0a82c59cc3"
      },
      "outputs": [
        {
          "output_type": "stream",
          "name": "stdout",
          "text": [
            "Element is present at index 4\n"
          ]
        }
      ],
      "source": [
        "# Iterative Binary Search Function method Python Implementation  \n",
        "# It returns index of n in given list1 if present,   \n",
        "# else returns -1   \n",
        "def binary_search(list1, n):  \n",
        "    low = 0  \n",
        "    high = len(list1) - 1  \n",
        "    mid = 0  \n",
        "  \n",
        "    while low <= high:  \n",
        "        # for get integer result   \n",
        "        mid = (high + low) // 2  \n",
        "  \n",
        "        # Check if n is present at mid   \n",
        "        if list1[mid] < n:  \n",
        "            low = mid + 1  \n",
        "  \n",
        "        # If n is greater, compare to the right of mid   \n",
        "        elif list1[mid] > n:  \n",
        "            high = mid - 1  \n",
        "  \n",
        "        # If n is smaller, compared to the left of mid  \n",
        "        else:  \n",
        "            return mid  \n",
        "  \n",
        "            # element was not present in the list, return -1  \n",
        "    return -1  \n",
        "  \n",
        "  \n",
        "# Initial list1  \n",
        "list1 = [12, 24, 32, 39, 45, 50, 54]  \n",
        "n = 45  \n",
        "  \n",
        "# Function call   \n",
        "result = binary_search(list1, n)  \n",
        "  \n",
        "if result != -1:  \n",
        "    print(\"Element is present at index\", str(result))  \n",
        "else:  \n",
        "    print(\"Element is not present in list1\")  "
      ]
    }
  ]
}