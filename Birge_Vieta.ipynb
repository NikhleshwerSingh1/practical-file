{
  "nbformat": 4,
  "nbformat_minor": 0,
  "metadata": {
    "colab": {
      "provenance": [],
      "authorship_tag": "ABX9TyOmQkK0neHttHNHFgE2SLcX",
      "include_colab_link": true
    },
    "kernelspec": {
      "name": "python3",
      "display_name": "Python 3"
    },
    "language_info": {
      "name": "python"
    }
  },
  "cells": [
    {
      "cell_type": "markdown",
      "metadata": {
        "id": "view-in-github",
        "colab_type": "text"
      },
      "source": [
        "<a href=\"https://colab.research.google.com/github/NikhleshwerSingh1/practical-file/blob/main/Birge_Vieta.ipynb\" target=\"_parent\"><img src=\"https://colab.research.google.com/assets/colab-badge.svg\" alt=\"Open In Colab\"/></a>"
      ]
    },
    {
      "cell_type": "code",
      "execution_count": 5,
      "metadata": {
        "colab": {
          "base_uri": "https://localhost:8080/"
        },
        "id": "FUsbKokhXtxb",
        "outputId": "7bc2549f-e54e-43b2-f399-72cadd8d631f"
      },
      "outputs": [
        {
          "output_type": "stream",
          "name": "stdout",
          "text": [
            "Enter order of equation:6\n",
            "Enter coefficients:1 0 -1 -1 0 6 -1\n",
            "Enter initial guess:-2.0\n",
            "Enter number of iterations required:15\n",
            "[-2.0]\n",
            "Root of equation at iteration 1 is -1.7409638554216866\n",
            "Root of equation at iteration 2 is -1.5807445977369468\n",
            "Root of equation at iteration 3 is -1.5178867272425118\n",
            "Root of equation at iteration 4 is -1.509045527246829\n",
            "Root of equation at iteration 5 is -1.5088852761953697\n",
            "Root of equation at iteration 6 is -1.5088852243773454\n",
            "Root of equation at iteration 7 is -1.5088852243773399\n",
            "Root of equation at iteration 8 is -1.5088852243773399\n",
            "Root of equation at iteration 9 is -1.5088852243773399\n",
            "Root of equation at iteration 10 is -1.5088852243773399\n",
            "Root of equation at iteration 11 is -1.5088852243773399\n",
            "Root of equation at iteration 12 is -1.5088852243773399\n",
            "Root of equation at iteration 13 is -1.5088852243773399\n",
            "Root of equation at iteration 14 is -1.5088852243773399\n",
            "Root of equation at iteration 15 is -1.5088852243773399\n"
          ]
        }
      ],
      "source": [
        "# Program for Birge-Vieta Method\n",
        "n=int(input('Enter order of equation:'))\n",
        "a1=input(\"Enter coefficients:\")\n",
        "p=input('Enter initial guess:')\n",
        "it=int(input('Enter number of iterations required:'))\n",
        "a=list(map(float,a1.split()))\n",
        "p=list(map(float,p.split()))\n",
        "print(p)\n",
        "for k in range(0,it):\n",
        "    b=[];c=[];\n",
        "    b.append(a[0]);\n",
        "    c.append(b[0]);\n",
        "    j=1;\n",
        "    for j in range(1,n+1):\n",
        "        b.append(a[j]+p[k]*b[j-1])  \n",
        "        c.append(b[j]+p[k]*c[j-1])\n",
        "    #print(b,c)\n",
        "    p.append(p[k]-b[n]/c[n-1])\n",
        "    print(\"Root of equation at iteration\",k+1,\"is\", p[k+1])"
      ]
    }
  ]
}