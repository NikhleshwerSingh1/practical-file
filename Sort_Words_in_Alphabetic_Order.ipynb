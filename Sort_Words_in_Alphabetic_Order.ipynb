{
  "nbformat": 4,
  "nbformat_minor": 0,
  "metadata": {
    "colab": {
      "name": "Sort Words in Alphabetic Order.ipynb",
      "provenance": [],
      "authorship_tag": "ABX9TyOExRVNGowURxHA+JLqPCdH",
      "include_colab_link": true
    },
    "kernelspec": {
      "name": "python3",
      "display_name": "Python 3"
    },
    "language_info": {
      "name": "python"
    }
  },
  "cells": [
    {
      "cell_type": "markdown",
      "metadata": {
        "id": "view-in-github",
        "colab_type": "text"
      },
      "source": [
        "<a href=\"https://colab.research.google.com/github/NikhleshwerSingh1/practical-file/blob/main/Sort_Words_in_Alphabetic_Order.ipynb\" target=\"_parent\"><img src=\"https://colab.research.google.com/assets/colab-badge.svg\" alt=\"Open In Colab\"/></a>"
      ]
    },
    {
      "cell_type": "code",
      "execution_count": 2,
      "metadata": {
        "colab": {
          "base_uri": "https://localhost:8080/"
        },
        "id": "CjRFXYr2ZPLn",
        "outputId": "b2d0a60b-a849-46c9-fc98-22ceddfb09d9"
      },
      "outputs": [
        {
          "output_type": "stream",
          "name": "stdout",
          "text": [
            "Enter a string: search for operations to be operated\n",
            "be\n",
            "for\n",
            "operated\n",
            "operations\n",
            "search\n",
            "to\n"
          ]
        }
      ],
      "source": [
        "my_str = input(\"Enter a string: \")  \n",
        "# breakdown the string into a list of words  \n",
        "words = my_str.split()  \n",
        "# sort the list  \n",
        "words.sort()  \n",
        "# display the sorted words  \n",
        "for word in words:  \n",
        "   print(word)  "
      ]
    }
  ]
}