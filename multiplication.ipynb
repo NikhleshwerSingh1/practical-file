{
  "nbformat": 4,
  "nbformat_minor": 0,
  "metadata": {
    "colab": {
      "name": "multiplication.ipynb",
      "provenance": [],
      "authorship_tag": "ABX9TyPoU3m+hnkalSSyjZ45JwpA",
      "include_colab_link": true
    },
    "kernelspec": {
      "name": "python3",
      "display_name": "Python 3"
    },
    "language_info": {
      "name": "python"
    }
  },
  "cells": [
    {
      "cell_type": "markdown",
      "metadata": {
        "id": "view-in-github",
        "colab_type": "text"
      },
      "source": [
        "<a href=\"https://colab.research.google.com/github/NikhleshwerSingh1/practical-file/blob/main/multiplication.ipynb\" target=\"_parent\"><img src=\"https://colab.research.google.com/assets/colab-badge.svg\" alt=\"Open In Colab\"/></a>"
      ]
    },
    {
      "cell_type": "markdown",
      "source": [
        "WAP to Display the multiplication Table.\n",
        "\n",
        "Method 1: Using For loop"
      ],
      "metadata": {
        "id": "6ZTq6gy1j1PC"
      }
    },
    {
      "cell_type": "code",
      "execution_count": 1,
      "metadata": {
        "colab": {
          "base_uri": "https://localhost:8080/"
        },
        "id": "ET606Euuj0I0",
        "outputId": "63d9a2ca-0b72-4ee9-f1ce-2fb51d41e425"
      },
      "outputs": [
        {
          "output_type": "stream",
          "name": "stdout",
          "text": [
            "Enter the number of which the user wants to print the multiplication table: 5\n",
            "The Multiplication Table of:  5\n",
            "5 x 1 = 5\n",
            "5 x 2 = 10\n",
            "5 x 3 = 15\n",
            "5 x 4 = 20\n",
            "5 x 5 = 25\n",
            "5 x 6 = 30\n",
            "5 x 7 = 35\n",
            "5 x 8 = 40\n",
            "5 x 9 = 45\n",
            "5 x 10 = 50\n"
          ]
        }
      ],
      "source": [
        "number = int(input (\"Enter the number of which the user wants to print the multiplication table: \"))      \n",
        "# We are using \"for loop\" to iterate the multiplication 10 times       \n",
        "print (\"The Multiplication Table of: \", number)    \n",
        "for count in range(1, 11):      \n",
        "   print (number, 'x', count, '=', number * count)    "
      ]
    },
    {
      "cell_type": "markdown",
      "source": [
        "Method 2: By using While Loop"
      ],
      "metadata": {
        "id": "wmpwibh3kXpy"
      }
    },
    {
      "cell_type": "code",
      "source": [
        "a=int(input(\"enter table number\"))\n",
        "b=int(input(\"enter the number to which table is to printed\"))\n",
        "i=1\n",
        "while i<=b:\n",
        "    print(a,\"x\",i,\"=\",a*i)\n",
        "    i=i+1\n"
      ],
      "metadata": {
        "colab": {
          "base_uri": "https://localhost:8080/"
        },
        "id": "3Y_QCUWRkb4b",
        "outputId": "2a6ca9d0-670a-4a56-e7c2-dfbcef5a9af0"
      },
      "execution_count": 17,
      "outputs": [
        {
          "output_type": "stream",
          "name": "stdout",
          "text": [
            "enter table number11\n",
            "enter the number to which table is to printed10\n",
            "11 x 1 = 11\n",
            "11 x 2 = 22\n",
            "11 x 3 = 33\n",
            "11 x 4 = 44\n",
            "11 x 5 = 55\n",
            "11 x 6 = 66\n",
            "11 x 7 = 77\n",
            "11 x 8 = 88\n",
            "11 x 9 = 99\n",
            "11 x 10 = 110\n"
          ]
        }
      ]
    },
    {
      "cell_type": "code",
      "source": [
        ""
      ],
      "metadata": {
        "id": "7Lu_hWChllwO"
      },
      "execution_count": null,
      "outputs": []
    }
  ]
}