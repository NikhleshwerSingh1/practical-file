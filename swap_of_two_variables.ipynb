{
  "nbformat": 4,
  "nbformat_minor": 0,
  "metadata": {
    "colab": {
      "name": "swap of two variables.ipynb",
      "provenance": [],
      "authorship_tag": "ABX9TyPmBWQde1mXUi1CJy9Y5nRa",
      "include_colab_link": true
    },
    "kernelspec": {
      "name": "python3",
      "display_name": "Python 3"
    },
    "language_info": {
      "name": "python"
    }
  },
  "cells": [
    {
      "cell_type": "markdown",
      "metadata": {
        "id": "view-in-github",
        "colab_type": "text"
      },
      "source": [
        "<a href=\"https://colab.research.google.com/github/NikhleshwerSingh1/practical-file/blob/main/swap_of_two_variables.ipynb\" target=\"_parent\"><img src=\"https://colab.research.google.com/assets/colab-badge.svg\" alt=\"Open In Colab\"/></a>"
      ]
    },
    {
      "cell_type": "markdown",
      "source": [
        "By using Naïve Approach"
      ],
      "metadata": {
        "id": "fUI8UAjqhPjG"
      }
    },
    {
      "cell_type": "code",
      "execution_count": 1,
      "metadata": {
        "colab": {
          "base_uri": "https://localhost:8080/"
        },
        "id": "UOEH-R6ghOIq",
        "outputId": "c94ce4ff-b74c-4823-e5e2-6a0622c364e3"
      },
      "outputs": [
        {
          "output_type": "stream",
          "name": "stdout",
          "text": [
            "Please enter value for P: 54\n",
            "Please enter value for Q: 23\n",
            "The Value of P after swapping:  23\n",
            "The Value of Q after swapping:  54\n"
          ]
        }
      ],
      "source": [
        "P = int( input(\"Please enter value for P: \"))  \n",
        "Q = int( input(\"Please enter value for Q: \"))  \n",
        "   \n",
        "# To swap the value of two variables  \n",
        "# we will user third variable which is a temporary variable  \n",
        "temp_1 = P  \n",
        "P = Q  \n",
        "Q = temp_1  \n",
        "   \n",
        "print (\"The Value of P after swapping: \", P)  \n",
        "print (\"The Value of Q after swapping: \", Q)  s"
      ]
    },
    {
      "cell_type": "markdown",
      "source": [
        "Method 2: By using comma operator"
      ],
      "metadata": {
        "id": "lg8Q-z05iuz2"
      }
    },
    {
      "cell_type": "code",
      "source": [
        "P = int( input(\"Please enter value for P: \"))  \n",
        "Q = int( input(\"Please enter value for Q: \"))  \n",
        "   \n",
        "# To Swap the values of two variables  \n",
        "P, Q = Q, P  \n",
        "   \n",
        "print (\"The Value of P after swapping: \", P)  \n",
        "print (\"The Value of Q after swapping: \", Q)  "
      ],
      "metadata": {
        "colab": {
          "base_uri": "https://localhost:8080/"
        },
        "id": "bbKJjM2FiSi8",
        "outputId": "ff00bb70-8b9e-476e-b675-bf5c49cd6118"
      },
      "execution_count": 2,
      "outputs": [
        {
          "output_type": "stream",
          "name": "stdout",
          "text": [
            "Please enter value for P: 98\n",
            "Please enter value for Q: 76\n",
            "The Value of P after swapping:  76\n",
            "The Value of Q after swapping:  98\n"
          ]
        }
      ]
    },
    {
      "cell_type": "markdown",
      "source": [
        "Method 3: By using XOR method"
      ],
      "metadata": {
        "id": "azT8NT16itdE"
      }
    },
    {
      "cell_type": "code",
      "source": [
        "P = int( input(\"Please enter value for P: \"))  \n",
        "Q = int( input(\"Please enter value for Q: \"))  \n",
        "   \n",
        "# To Swap the values of two variables using XOR  \n",
        "P = P ^ Q  \n",
        "Q = P ^ Q  \n",
        "P = P ^ Q  \n",
        "   \n",
        "print (\"The Value of P after swapping: \", P)  \n",
        "print (\"The Value of Q after swapping: \", Q)  "
      ],
      "metadata": {
        "colab": {
          "base_uri": "https://localhost:8080/"
        },
        "id": "Mftu8JyTisb5",
        "outputId": "8416e706-b561-4c1f-e994-b8449e336fe8"
      },
      "execution_count": 3,
      "outputs": [
        {
          "output_type": "stream",
          "name": "stdout",
          "text": [
            "Please enter value for P: 66\n",
            "Please enter value for Q: 45\n",
            "The Value of P after swapping:  45\n",
            "The Value of Q after swapping:  66\n"
          ]
        }
      ]
    },
    {
      "cell_type": "markdown",
      "source": [
        "By using arithmetic operators"
      ],
      "metadata": {
        "id": "lQxa-WrAjNGj"
      }
    },
    {
      "cell_type": "code",
      "source": [
        "P = int( input(\"Please enter value for P: \"))  \n",
        "Q = int( input(\"Please enter value for Q: \"))  \n",
        "   \n",
        "# To Swap the values of two variables using Addition and subtraction operator  \n",
        "P = P + Q    \n",
        "Q = P - Q   \n",
        "P = P - Q  \n",
        "   \n",
        "print (\"The Value of P after swapping: \", P)  \n",
        "print (\"The Value of Q after swapping: \", Q)  \n"
      ],
      "metadata": {
        "colab": {
          "base_uri": "https://localhost:8080/"
        },
        "id": "Eii2jPtKjPV0",
        "outputId": "fcdfafb4-5097-4833-c36c-22231a095679"
      },
      "execution_count": 5,
      "outputs": [
        {
          "output_type": "stream",
          "name": "stdout",
          "text": [
            "Please enter value for P: 34\n",
            "Please enter value for Q: 56\n",
            "The Value of P after swapping:  56\n",
            "The Value of Q after swapping:  34\n"
          ]
        }
      ]
    }
  ]
}