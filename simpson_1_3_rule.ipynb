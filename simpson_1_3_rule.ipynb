{
  "nbformat": 4,
  "nbformat_minor": 0,
  "metadata": {
    "colab": {
      "name": "simpson 1/3 rule.ipynb",
      "provenance": [],
      "authorship_tag": "ABX9TyPsRi3bEU0rYM1VecaS/PHv",
      "include_colab_link": true
    },
    "kernelspec": {
      "name": "python3",
      "display_name": "Python 3"
    },
    "language_info": {
      "name": "python"
    },
    "accelerator": "GPU",
    "gpuClass": "standard"
  },
  "cells": [
    {
      "cell_type": "markdown",
      "metadata": {
        "id": "view-in-github",
        "colab_type": "text"
      },
      "source": [
        "<a href=\"https://colab.research.google.com/github/NikhleshwerSingh1/practical-file/blob/main/simpson_1_3_rule.ipynb\" target=\"_parent\"><img src=\"https://colab.research.google.com/assets/colab-badge.svg\" alt=\"Open In Colab\"/></a>"
      ]
    },
    {
      "cell_type": "code",
      "execution_count": 1,
      "metadata": {
        "colab": {
          "base_uri": "https://localhost:8080/"
        },
        "id": "g6-xDOFwY-sq",
        "outputId": "1c1eda34-beb8-4268-f4ba-3a14dc2db5ad"
      },
      "outputs": [
        {
          "output_type": "stream",
          "name": "stdout",
          "text": [
            "Enter lower limit of integration: 0\n",
            "Enter upper limit of integration: 1\n",
            "Enter number of sub intervals: 6\n",
            "Integration result by Simpson's 1/3 method is: 0.785398\n"
          ]
        }
      ],
      "source": [
        "# Simpson's 1/3 Rule\n",
        "\n",
        "# Define function to integrate\n",
        "def f(x):\n",
        "    return 1/(1 + x**2)\n",
        "\n",
        "# Implementing Simpson's 1/3 \n",
        "def simpson13(x0,xn,n):\n",
        "    # calculating step size\n",
        "    h = (xn - x0) / n\n",
        "    \n",
        "    # Finding sum \n",
        "    integration = f(x0) + f(xn)\n",
        "    \n",
        "    for i in range(1,n):\n",
        "        k = x0 + i*h\n",
        "        \n",
        "        if i%2 == 0:\n",
        "            integration = integration + 2 * f(k)\n",
        "        else:\n",
        "            integration = integration + 4 * f(k)\n",
        "    \n",
        "    # Finding final integration value\n",
        "    integration = integration * h/3\n",
        "    \n",
        "    return integration\n",
        "    \n",
        "# Input section\n",
        "lower_limit = float(input(\"Enter lower limit of integration: \"))\n",
        "upper_limit = float(input(\"Enter upper limit of integration: \"))\n",
        "sub_interval = int(input(\"Enter number of sub intervals: \"))\n",
        "\n",
        "# Call trapezoidal() method and get result\n",
        "result = simpson13(lower_limit, upper_limit, sub_interval)\n",
        "print(\"Integration result by Simpson's 1/3 method is: %0.6f\" % (result) )"
      ]
    }
  ]
}