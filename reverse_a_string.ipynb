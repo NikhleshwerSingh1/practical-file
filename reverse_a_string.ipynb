{
  "nbformat": 4,
  "nbformat_minor": 0,
  "metadata": {
    "colab": {
      "name": "reverse a string.ipynb",
      "provenance": [],
      "authorship_tag": "ABX9TyOI3np00rfm8qEohhoCsfY3",
      "include_colab_link": true
    },
    "kernelspec": {
      "name": "python3",
      "display_name": "Python 3"
    },
    "language_info": {
      "name": "python"
    }
  },
  "cells": [
    {
      "cell_type": "markdown",
      "metadata": {
        "id": "view-in-github",
        "colab_type": "text"
      },
      "source": [
        "<a href=\"https://colab.research.google.com/github/NikhleshwerSingh1/practical-file/blob/main/reverse_a_string.ipynb\" target=\"_parent\"><img src=\"https://colab.research.google.com/assets/colab-badge.svg\" alt=\"Open In Colab\"/></a>"
      ]
    },
    {
      "cell_type": "markdown",
      "source": [
        "Using for loop\n"
      ],
      "metadata": {
        "id": "uRoY_VahaTgv"
      }
    },
    {
      "cell_type": "code",
      "execution_count": 1,
      "metadata": {
        "colab": {
          "base_uri": "https://localhost:8080/"
        },
        "id": "vmqUUV9OaSHB",
        "outputId": "88f96603-3e22-41f2-b498-b755ba4875c9"
      },
      "outputs": [
        {
          "output_type": "stream",
          "name": "stdout",
          "text": [
            "The original string is:  Practical on python\n",
            "The reverse string is nohtyp no lacitcarP\n"
          ]
        }
      ],
      "source": [
        "def reverse_string(str):  \n",
        "    str1 = \"\"   # Declaring empty string to store the reversed string  \n",
        "    for i in str:  \n",
        "        str1 = i + str1  \n",
        "    return str1    # It will return the reverse string to the caller function  \n",
        "     \n",
        "str = \"Practical on python\"    # Given String       \n",
        "print(\"The original string is: \",str)  \n",
        "print(\"The reverse string is\",reverse_string(str)) # Function call  "
      ]
    },
    {
      "cell_type": "markdown",
      "source": [
        "Using while loop"
      ],
      "metadata": {
        "id": "LYLLntAnbh7m"
      }
    },
    {
      "cell_type": "code",
      "source": [
        "# Reverse string  \n",
        "# Using a while loop  \n",
        "  \n",
        "str = \"Capt. Jack Sparrow\" #  string variable  \n",
        "print (\"The original string  is : \",str)   \n",
        "reverse_String = \"\"  # Empty String  \n",
        "count = len(str) # Find length of a string and save in count variable  \n",
        "while count > 0:   \n",
        "    reverse_String += str[ count - 1 ] # save the value of str[count-1] in reverseString  \n",
        "    count = count - 1 # decrement index  \n",
        "print (\"The reversed string using a while loop is : \",reverse_String)# reversed string  "
      ],
      "metadata": {
        "colab": {
          "base_uri": "https://localhost:8080/"
        },
        "id": "knxcVOUubivy",
        "outputId": "619a9d23-e16d-47f5-d9d0-bb4db7918cd3"
      },
      "execution_count": 3,
      "outputs": [
        {
          "output_type": "stream",
          "name": "stdout",
          "text": [
            "The original string  is :  Capt. Jack Sparrow\n",
            "The reversed string using a while loop is :  worrapS kcaJ .tpaC\n"
          ]
        }
      ]
    },
    {
      "cell_type": "markdown",
      "source": [
        "Using the slice ([]) operator"
      ],
      "metadata": {
        "id": "LUcG3dkDbn9y"
      }
    },
    {
      "cell_type": "code",
      "source": [
        "#  Reverse a string    \n",
        "# using  slice syntax   \n",
        "# reverse(str) Function to reverse a string   \n",
        "def reverse(str):   \n",
        "    str = str[::-1]   \n",
        "    return str   \n",
        "    \n",
        "s = \"Search task\"  ))  \n",
        "print (\"The original string  is : \",s)   \n",
        "print (\"The reversed string using extended slice operator  is : \",reverse(s"
      ],
      "metadata": {
        "colab": {
          "base_uri": "https://localhost:8080/"
        },
        "id": "wJwHZ9Q7brYw",
        "outputId": "5974acdf-7c07-46d1-e7e5-600bb1ee1a4c"
      },
      "execution_count": 4,
      "outputs": [
        {
          "output_type": "stream",
          "name": "stdout",
          "text": [
            "The original string  is :  Search task\n",
            "The reversed string using extended slice operator  is :  ksat hcraeS\n"
          ]
        }
      ]
    },
    {
      "cell_type": "markdown",
      "source": [
        ""
      ],
      "metadata": {
        "id": "wI44pQWnbweU"
      }
    },
    {
      "cell_type": "markdown",
      "source": [
        "Using reverse function with join"
      ],
      "metadata": {
        "id": "QQ8Kg7MVbt04"
      }
    },
    {
      "cell_type": "code",
      "source": [
        "#reverse a string using reversed()   \n",
        "# Function to reverse a string   \n",
        "def reverse(str):   \n",
        "    string = \"\".join(reversed(str)) # reversed() function inside the join() function  \n",
        "    return string   \n",
        "  \n",
        "s = \"System error\"  \n",
        "  \n",
        "print (\"The original string is : \",s)   \n",
        "print (\"The reversed string using reversed() is : \",reverse(s) ) "
      ],
      "metadata": {
        "colab": {
          "base_uri": "https://localhost:8080/"
        },
        "id": "BGpRhFmSb4j4",
        "outputId": "3e5ecc21-22c7-43a3-d6bc-64af4c88ea1d"
      },
      "execution_count": 5,
      "outputs": [
        {
          "output_type": "stream",
          "name": "stdout",
          "text": [
            "The original string is :  System error\n",
            "The reversed string using reversed() is :  rorre metsyS\n"
          ]
        }
      ]
    },
    {
      "cell_type": "markdown",
      "source": [
        "Using recursion()"
      ],
      "metadata": {
        "id": "Cs4-1lFGb5Lx"
      }
    },
    {
      "cell_type": "code",
      "source": [
        "# reverse a string    \n",
        "# using recursion   \n",
        "    \n",
        "def reverse(str):   \n",
        "    if len(str) == 0: # Checking the lenght of string  \n",
        "        return str   \n",
        "    else:   \n",
        "        return reverse(str[1:]) + str[0]   \n",
        "    \n",
        "str = \"last operation\"   \n",
        "print (\"The original string  is : \", str)     \n",
        "print (\"The reversed string(using recursion) is : \", reverse(str))  "
      ],
      "metadata": {
        "colab": {
          "base_uri": "https://localhost:8080/"
        },
        "id": "h_1RyAVDb7Qu",
        "outputId": "f3061a33-31ec-4968-f328-fcd42cbd549a"
      },
      "execution_count": 6,
      "outputs": [
        {
          "output_type": "stream",
          "name": "stdout",
          "text": [
            "The original string  is :  last operation\n",
            "The reversed string(using recursion) is :  noitarepo tsal\n"
          ]
        }
      ]
    }
  ]
}