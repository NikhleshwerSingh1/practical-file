{
  "nbformat": 4,
  "nbformat_minor": 0,
  "metadata": {
    "colab": {
      "name": "Elements of an array.ipynb",
      "provenance": [],
      "authorship_tag": "ABX9TyOUOKMGire4x6MLmT6D0nMU",
      "include_colab_link": true
    },
    "kernelspec": {
      "name": "python3",
      "display_name": "Python 3"
    },
    "language_info": {
      "name": "python"
    }
  },
  "cells": [
    {
      "cell_type": "markdown",
      "metadata": {
        "id": "view-in-github",
        "colab_type": "text"
      },
      "source": [
        "<a href=\"https://colab.research.google.com/github/NikhleshwerSingh1/practical-file/blob/main/Elements_of_an_array.ipynb\" target=\"_parent\"><img src=\"https://colab.research.google.com/assets/colab-badge.svg\" alt=\"Open In Colab\"/></a>"
      ]
    },
    {
      "cell_type": "code",
      "execution_count": 1,
      "metadata": {
        "colab": {
          "base_uri": "https://localhost:8080/"
        },
        "id": "JsCcW-DrHkQ1",
        "outputId": "589801bd-ccbd-463a-80ee-ce24cfba3fc7"
      },
      "outputs": [
        {
          "output_type": "stream",
          "name": "stdout",
          "text": [
            "Elements of given array: \n",
            "1\n",
            "2\n",
            "3\n",
            "4\n",
            "5\n",
            "6\n"
          ]
        }
      ],
      "source": [
        "#Initialize array     \n",
        "arr = [1, 2, 3, 4, 5,6];     \n",
        "     \n",
        "print(\"Elements of given array: \");    \n",
        "#Loop through the array by incrementing the value of i     \n",
        "    \n",
        "for i in range(0, len(arr)):    \n",
        "    print(arr[i]),  "
      ]
    }
  ]
}