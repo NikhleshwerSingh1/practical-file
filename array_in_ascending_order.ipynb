{
  "nbformat": 4,
  "nbformat_minor": 0,
  "metadata": {
    "colab": {
      "name": "array in ascending order.ipynb",
      "provenance": [],
      "authorship_tag": "ABX9TyOEKD91pjGF6ip7wK7cD3Nj",
      "include_colab_link": true
    },
    "kernelspec": {
      "name": "python3",
      "display_name": "Python 3"
    },
    "language_info": {
      "name": "python"
    }
  },
  "cells": [
    {
      "cell_type": "markdown",
      "metadata": {
        "id": "view-in-github",
        "colab_type": "text"
      },
      "source": [
        "<a href=\"https://colab.research.google.com/github/NikhleshwerSingh1/practical-file/blob/main/array_in_ascending_order.ipynb\" target=\"_parent\"><img src=\"https://colab.research.google.com/assets/colab-badge.svg\" alt=\"Open In Colab\"/></a>"
      ]
    },
    {
      "cell_type": "code",
      "execution_count": 1,
      "metadata": {
        "colab": {
          "base_uri": "https://localhost:8080/"
        },
        "id": "0plAVMOpSi2v",
        "outputId": "2f33c0fa-6160-4117-f567-a92570bcdce5"
      },
      "outputs": [
        {
          "output_type": "stream",
          "name": "stdout",
          "text": [
            "Elements of original array: \n",
            "5 2 8 7 1 \n",
            "Elements of array sorted in ascending order: \n",
            "1 2 5 7 8 "
          ]
        }
      ],
      "source": [
        "#Initialize array     \n",
        "arr = [5, 2, 8, 7, 1];     \n",
        "temp = 0;    \n",
        "     \n",
        "#Displaying elements of original array    \n",
        "print(\"Elements of original array: \");    \n",
        "for i in range(0, len(arr)):    \n",
        "    print(arr[i], end=\" \");    \n",
        "     \n",
        "#Sort the array in ascending order    \n",
        "for i in range(0, len(arr)):    \n",
        "    for j in range(i+1, len(arr)):    \n",
        "        if(arr[i] > arr[j]):    \n",
        "            temp = arr[i];    \n",
        "            arr[i] = arr[j];    \n",
        "            arr[j] = temp;    \n",
        "     \n",
        "print();    \n",
        "     \n",
        "#Displaying elements of the array after sorting    \n",
        "    \n",
        "print(\"Elements of array sorted in ascending order: \");    \n",
        "for i in range(0, len(arr)):    \n",
        "    print(arr[i], end=\" \");    "
      ]
    }
  ]
}