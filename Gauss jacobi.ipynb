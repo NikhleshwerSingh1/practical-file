{
  "nbformat": 4,
  "nbformat_minor": 0,
  "metadata": {
    "colab": {
      "name": "Untitled22.ipynb",
      "provenance": [],
      "authorship_tag": "ABX9TyOiozi7J0ST5uWHuqYjlfX9",
      "include_colab_link": true
    },
    "kernelspec": {
      "name": "python3",
      "display_name": "Python 3"
    },
    "language_info": {
      "name": "python"
    }
  },
  "cells": [
    {
      "cell_type": "markdown",
      "metadata": {
        "id": "view-in-github",
        "colab_type": "text"
      },
      "source": [
        "<a href=\"https://colab.research.google.com/github/NikhleshwerSingh1/practical-file/blob/main/Gauss%20jacobi.ipynb\" target=\"_parent\"><img src=\"https://colab.research.google.com/assets/colab-badge.svg\" alt=\"Open In Colab\"/></a>"
      ]
    },
    {
      "cell_type": "markdown",
      "source": [
        "3x + 20y - z = -18\n",
        "2x - 3y + 20z = 25\n",
        "20x + y - 2z = 17\n",
        "Then they will be arranged like this:\n",
        "\n",
        "20x + y - 2z = 17\n",
        "3x + 20y -z = -18\n",
        "2x - 3y + 20z = 25\n",
        "After arranging equations in diagonally dominant form, we form equations for x, y, & z like this:\n",
        "\n",
        "x = (17-y+2z)/20\n",
        "y = (-18-3x+z)/20\n",
        "z = (25-2x+3y)/20\n",
        "These equations are defined later in Jacobi python program using lambda expression.\n"
      ],
      "metadata": {
        "id": "1IHO8yKAYUpf"
      }
    },
    {
      "cell_type": "code",
      "execution_count": 1,
      "metadata": {
        "colab": {
          "base_uri": "https://localhost:8080/"
        },
        "id": "zQJvNKSAW47V",
        "outputId": "10deda0b-040a-4260-cd2b-20b5842cb483"
      },
      "outputs": [
        {
          "output_type": "stream",
          "name": "stdout",
          "text": [
            "Enter tolerable error: .00001\n",
            "\n",
            "Count\tx\ty\tz\n",
            "\n",
            "1\t0.8500\t-0.9000\t1.2500\n",
            "\n",
            "2\t1.0200\t-0.9650\t1.0300\n",
            "\n",
            "3\t1.0012\t-1.0015\t1.0032\n",
            "\n",
            "4\t1.0004\t-1.0000\t0.9996\n",
            "\n",
            "5\t1.0000\t-1.0001\t1.0000\n",
            "\n",
            "6\t1.0000\t-1.0000\t1.0000\n",
            "\n",
            "7\t1.0000\t-1.0000\t1.0000\n",
            "\n",
            "\n",
            "Solution: x=1.000, y=-1.000 and z = 1.000\n",
            "\n"
          ]
        }
      ],
      "source": [
        "# Defining equations to be solved\n",
        "# in diagonally dominant form\n",
        "f1 = lambda x,y,z: (17-y+2*z)/20\n",
        "f2 = lambda x,y,z: (-18-3*x+z)/20\n",
        "f3 = lambda x,y,z: (25-2*x+3*y)/20\n",
        "\n",
        "# Initial setup\n",
        "x0 = 0\n",
        "y0 = 0\n",
        "z0 = 0\n",
        "count = 1\n",
        "\n",
        "# Reading tolerable error\n",
        "e = float(input('Enter tolerable error: '))\n",
        "\n",
        "# Implementation of Jacobi Iteration\n",
        "print('\\nCount\\tx\\ty\\tz\\n')\n",
        "\n",
        "condition = True\n",
        "\n",
        "while condition:\n",
        "    x1 = f1(x0,y0,z0)\n",
        "    y1 = f2(x0,y0,z0)\n",
        "    z1 = f3(x0,y0,z0)\n",
        "    print('%d\\t%0.4f\\t%0.4f\\t%0.4f\\n' %(count, x1,y1,z1))\n",
        "    e1 = abs(x0-x1);\n",
        "    e2 = abs(y0-y1);\n",
        "    e3 = abs(z0-z1);\n",
        "    \n",
        "    count += 1\n",
        "    x0 = x1\n",
        "    y0 = y1\n",
        "    z0 = z1\n",
        "    \n",
        "    condition = e1>e and e2>e and e3>e\n",
        "\n",
        "print('\\nSolution: x=%0.3f, y=%0.3f and z = %0.3f\\n'% (x1,y1,z1))"
      ]
    },
    {
      "cell_type": "code",
      "source": [
        ""
      ],
      "metadata": {
        "id": "wqOdjQXBXfgw"
      },
      "execution_count": null,
      "outputs": []
    }
  ]
}