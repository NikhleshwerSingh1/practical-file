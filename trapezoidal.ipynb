{
  "nbformat": 4,
  "nbformat_minor": 0,
  "metadata": {
    "colab": {
      "provenance": [],
      "authorship_tag": "ABX9TyOLgOU2MoZnuNZ5SG/lRBCc",
      "include_colab_link": true
    },
    "kernelspec": {
      "name": "python3",
      "display_name": "Python 3"
    },
    "language_info": {
      "name": "python"
    }
  },
  "cells": [
    {
      "cell_type": "markdown",
      "metadata": {
        "id": "view-in-github",
        "colab_type": "text"
      },
      "source": [
        "<a href=\"https://colab.research.google.com/github/NikhleshwerSingh1/practical-file/blob/main/trapezoidal.ipynb\" target=\"_parent\"><img src=\"https://colab.research.google.com/assets/colab-badge.svg\" alt=\"Open In Colab\"/></a>"
      ]
    },
    {
      "cell_type": "code",
      "execution_count": 2,
      "metadata": {
        "colab": {
          "base_uri": "https://localhost:8080/"
        },
        "id": "IpVWSqN1aQpZ",
        "outputId": "0cdf69eb-337e-4911-e61e-d31c1ccff19a"
      },
      "outputs": [
        {
          "output_type": "stream",
          "name": "stdout",
          "text": [
            "Enter the lower limit: 0\n",
            "Enter the upper limit: 1\n",
            "Enter the length: 6\n",
            "Result by Trapezoidal method is:  0.7842407666178157\n"
          ]
        }
      ],
      "source": [
        "a= float(input(\"Enter the lower limit: \"))\n",
        "b= float(input(\"Enter the upper limit: \"))\n",
        "n= int(input(\"Enter the length: \"))\n",
        "\n",
        "def f(x):\n",
        "    return (1/(1+x**2))\n",
        "\n",
        "def trapezoidal(a,b,n):\n",
        "    h= (b-a)/n\n",
        "    sum1= f(a)+f(b)\n",
        "\n",
        "    for i in range(1,n):\n",
        "        w= a + i*h\n",
        "        sum1+= 2*f(w)\n",
        "\n",
        "    total= sum1 * h/2\n",
        "    return total\n",
        "\n",
        "result= trapezoidal(a,b,n)\n",
        "print(\"Result by Trapezoidal method is: \",result)"
      ]
    }
  ]
}