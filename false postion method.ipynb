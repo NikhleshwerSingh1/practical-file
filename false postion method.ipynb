{
  "nbformat": 4,
  "nbformat_minor": 0,
  "metadata": {
    "colab": {
      "name": "Untitled21.ipynb",
      "provenance": [],
      "authorship_tag": "ABX9TyPsCCHw0Jmkn161lrb4Uu5K",
      "include_colab_link": true
    },
    "kernelspec": {
      "name": "python3",
      "display_name": "Python 3"
    },
    "language_info": {
      "name": "python"
    }
  },
  "cells": [
    {
      "cell_type": "markdown",
      "metadata": {
        "id": "view-in-github",
        "colab_type": "text"
      },
      "source": [
        "<a href=\"https://colab.research.google.com/github/NikhleshwerSingh1/practical-file/blob/main/false%20postion%20method.ipynb\" target=\"_parent\"><img src=\"https://colab.research.google.com/assets/colab-badge.svg\" alt=\"Open In Colab\"/></a>"
      ]
    },
    {
      "cell_type": "code",
      "execution_count": 1,
      "metadata": {
        "colab": {
          "base_uri": "https://localhost:8080/"
        },
        "id": "LIKO2d5JV5kv",
        "outputId": "80b6b519-d183-441a-e325-1e30e022c40d"
      },
      "outputs": [
        {
          "output_type": "stream",
          "name": "stdout",
          "text": [
            "First Guess: 2\n",
            "Second Guess: 4\n",
            "Tolerable Error: .000001\n",
            "\n",
            "\n",
            "*** FALSE POSITION METHOD IMPLEMENTATION ***\n",
            "Iteration-1, x2 = 2.478261 and f(x2) = -6.170379\n",
            "Iteration-2, x2 = 2.706330 and f(x2) = -2.709882\n",
            "Iteration-3, x2 = 2.799295 and f(x2) = -1.061049\n",
            "Iteration-4, x2 = 2.834624 and f(x2) = -0.396645\n",
            "Iteration-5, x2 = 2.847683 and f(x2) = -0.145699\n",
            "Iteration-6, x2 = 2.852460 and f(x2) = -0.053174\n",
            "Iteration-7, x2 = 2.854201 and f(x2) = -0.019361\n",
            "Iteration-8, x2 = 2.854834 and f(x2) = -0.007043\n",
            "Iteration-9, x2 = 2.855065 and f(x2) = -0.002561\n",
            "Iteration-10, x2 = 2.855149 and f(x2) = -0.000931\n",
            "Iteration-11, x2 = 2.855179 and f(x2) = -0.000339\n",
            "Iteration-12, x2 = 2.855190 and f(x2) = -0.000123\n",
            "Iteration-13, x2 = 2.855194 and f(x2) = -0.000045\n",
            "Iteration-14, x2 = 2.855196 and f(x2) = -0.000016\n",
            "Iteration-15, x2 = 2.855196 and f(x2) = -0.000006\n",
            "Iteration-16, x2 = 2.855196 and f(x2) = -0.000002\n",
            "Iteration-17, x2 = 2.855196 and f(x2) = -0.000001\n",
            "\n",
            "Required root is: 2.85519650\n"
          ]
        }
      ],
      "source": [
        "# Defining Function\n",
        "def f(x):\n",
        "    return x**3-5*x-9\n",
        "\n",
        "# Implementing False Position Method\n",
        "def falsePosition(x0,x1,e):\n",
        "    step = 1\n",
        "    print('\\n\\n*** FALSE POSITION METHOD IMPLEMENTATION ***')\n",
        "    condition = True\n",
        "    while condition:\n",
        "        x2 = x0 - (x1-x0) * f(x0)/( f(x1) - f(x0) )\n",
        "        print('Iteration-%d, x2 = %0.6f and f(x2) = %0.6f' % (step, x2, f(x2)))\n",
        "\n",
        "        if f(x0) * f(x2) < 0:\n",
        "            x1 = x2\n",
        "        else:\n",
        "            x0 = x2\n",
        "\n",
        "        step = step + 1\n",
        "        condition = abs(f(x2)) > e\n",
        "\n",
        "    print('\\nRequired root is: %0.8f' % x2)\n",
        "\n",
        "\n",
        "# Input Section\n",
        "x0 = input('First Guess: ')\n",
        "x1 = input('Second Guess: ')\n",
        "e = input('Tolerable Error: ')\n",
        "\n",
        "# Converting input to float\n",
        "x0 = float(x0)\n",
        "x1 = float(x1)\n",
        "e = float(e)\n",
        "\n",
        "#Note: You can combine above two section like this\n",
        "# x0 = float(input('First Guess: '))\n",
        "# x1 = float(input('Second Guess: '))\n",
        "# e = float(input('Tolerable Error: '))\n",
        "\n",
        "\n",
        "# Checking Correctness of initial guess values and false positioning\n",
        "if f(x0) * f(x1) > 0.0:\n",
        "    print('Given guess values do not bracket the root.')\n",
        "    print('Try Again with different guess values.')\n",
        "else:\n",
        "    falsePosition(x0,x1,e)"
      ]
    }
  ]
}