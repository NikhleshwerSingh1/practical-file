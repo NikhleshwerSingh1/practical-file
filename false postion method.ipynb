{
  "nbformat": 4,
  "nbformat_minor": 0,
  "metadata": {
    "colab": {
      "name": "Untitled21.ipynb",
      "provenance": [],
      "authorship_tag": "ABX9TyPR7SEsiMURT6IbUcrRe7/o",
      "include_colab_link": true
    },
    "kernelspec": {
      "name": "python3",
      "display_name": "Python 3"
    },
    "language_info": {
      "name": "python"
    }
  },
  "cells": [
    {
      "cell_type": "markdown",
      "metadata": {
        "id": "view-in-github",
        "colab_type": "text"
      },
      "source": [
        "<a href=\"https://colab.research.google.com/github/NikhleshwerSingh1/practical-file/blob/main/false%20postion%20method.ipynb\" target=\"_parent\"><img src=\"https://colab.research.google.com/assets/colab-badge.svg\" alt=\"Open In Colab\"/></a>"
      ]
    },
    {
      "cell_type": "code",
      "execution_count": 1,
      "metadata": {
        "colab": {
          "base_uri": "https://localhost:8080/"
        },
        "id": "LIKO2d5JV5kv",
        "outputId": "821eeafb-2392-45aa-f3a8-55f728ef6eb1"
      },
      "outputs": [
        {
          "output_type": "stream",
          "name": "stdout",
          "text": [
            "First Guess: 1.75\n",
            "Second Guess: 2.5\n",
            "Tolerable Error: 0.00001\n",
            "\n",
            "\n",
            "*** FALSE POSITION METHOD IMPLEMENTATION ***\n",
            "Iteration-1, x2 = 2.018717 and f(x2) = -0.810726\n",
            "Iteration-2, x2 = 2.079345 and f(x2) = -0.168275\n",
            "Iteration-3, x2 = 2.091564 and f(x2) = -0.033291\n",
            "Iteration-4, x2 = 2.093967 and f(x2) = -0.006523\n",
            "Iteration-5, x2 = 2.094437 and f(x2) = -0.001276\n",
            "Iteration-6, x2 = 2.094529 and f(x2) = -0.000249\n",
            "Iteration-7, x2 = 2.094547 and f(x2) = -0.000049\n",
            "Iteration-8, x2 = 2.094551 and f(x2) = -0.000010\n",
            "\n",
            "Required root is: 2.09455063\n"
          ]
        }
      ],
      "source": [
        "# Defining Function\n",
        "def f(x):\n",
        "    return x**3-2*x-5\n",
        "\n",
        "# Implementing False Position Method\n",
        "def falsePosition(x0,x1,e):\n",
        "    step = 1\n",
        "    print('\\n\\n*** FALSE POSITION METHOD IMPLEMENTATION ***')\n",
        "    condition = True\n",
        "    while condition:\n",
        "        x2 = x0 - (x1-x0) * f(x0)/( f(x1) - f(x0) )\n",
        "        print('Iteration-%d, x2 = %0.6f and f(x2) = %0.6f' % (step, x2, f(x2)))\n",
        "\n",
        "        if f(x0) * f(x2) < 0:\n",
        "            x1 = x2\n",
        "        else:\n",
        "            x0 = x2\n",
        "\n",
        "        step = step + 1\n",
        "        condition = abs(f(x2)) > e\n",
        "\n",
        "    print('\\nRequired root is: %0.8f' % x2)\n",
        "\n",
        "\n",
        "# Input Section\n",
        "x0 = input('First Guess: ')\n",
        "x1 = input('Second Guess: ')\n",
        "e = input('Tolerable Error: ')\n",
        "\n",
        "# Converting input to float\n",
        "x0 = float(x0)\n",
        "x1 = float(x1)\n",
        "e = float(e)\n",
        "\n",
        "#Note: You can combine above two section like this\n",
        "# x0 = float(input('First Guess: '))\n",
        "# x1 = float(input('Second Guess: '))\n",
        "# e = float(input('Tolerable Error: '))\n",
        "\n",
        "\n",
        "# Checking Correctness of initial guess values and false positioning\n",
        "if f(x0) * f(x1) > 0.0:\n",
        "    print('Given guess values do not bracket the root.')\n",
        "    print('Try Again with different guess values.')\n",
        "else:\n",
        "    falsePosition(x0,x1,e)"
      ]
    }
  ]
}