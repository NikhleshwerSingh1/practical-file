{
  "nbformat": 4,
  "nbformat_minor": 0,
  "metadata": {
    "colab": {
      "name": "predictor-corrector of Modified Euler method",
      "provenance": [],
      "authorship_tag": "ABX9TyNFAnGZDoXWAR490REGNndF",
      "include_colab_link": true
    },
    "kernelspec": {
      "name": "python3",
      "display_name": "Python 3"
    },
    "language_info": {
      "name": "python"
    }
  },
  "cells": [
    {
      "cell_type": "markdown",
      "metadata": {
        "id": "view-in-github",
        "colab_type": "text"
      },
      "source": [
        "<a href=\"https://colab.research.google.com/github/NikhleshwerSingh1/practical-file/blob/main/predictor_corrector_of_Modified_Euler_method.ipynb\" target=\"_parent\"><img src=\"https://colab.research.google.com/assets/colab-badge.svg\" alt=\"Open In Colab\"/></a>"
      ]
    },
    {
      "cell_type": "code",
      "execution_count": 1,
      "metadata": {
        "colab": {
          "base_uri": "https://localhost:8080/"
        },
        "id": "94lhcWat7f9p",
        "outputId": "bbbebe02-97f7-4f1c-c905-9525be6a6e7f"
      },
      "outputs": [
        {
          "output_type": "stream",
          "name": "stdout",
          "text": [
            "The final value of y at x = 1 is : 2.183872\n"
          ]
        }
      ],
      "source": [
        "# using Predictor-Corrector or Modified-Euler method\n",
        "# with the given conditions, y(0) = 0.5, step size(h) = 0.2\n",
        "# to find y(1)\n",
        " \n",
        "# consider the differential equation\n",
        "# for a given x and y, return v\n",
        "def f(x, y):\n",
        "    v = y - 2 * x * x + 1;\n",
        "    return v;\n",
        " \n",
        "# predicts the next value for a given (x, y)\n",
        "# and step size h using Euler method\n",
        "def predict(x, y, h):\n",
        "     \n",
        "    # value of next y(predicted) is returned\n",
        "    y1p = y + h * f(x, y);\n",
        "    return y1p;\n",
        " \n",
        "# corrects the predicted value\n",
        "# using Modified Euler method\n",
        "def correct(x, y, x1, y1, h):\n",
        "     \n",
        "    # (x, y) are of previous step\n",
        "    # and x1 is the increased x for next step\n",
        "    # and y1 is predicted y for next step\n",
        "    e = 0.00001;\n",
        "    y1c = y1;\n",
        " \n",
        "    while (abs(y1c - y1) > e + 1):\n",
        "        y1 = y1c;\n",
        "        y1c = y + 0.5 * h * (f(x, y) + f(x1, y1));\n",
        " \n",
        "    # every iteration is correcting the value\n",
        "    # of y using average slope\n",
        "    return y1c;\n",
        " \n",
        "def printFinalValues(x, xn, y, h):\n",
        "    while (x < xn):\n",
        "        x1 = x + h;\n",
        "        y1p = predict(x, y, h);\n",
        "        y1c = correct(x, y, x1, y1p, h);\n",
        "        x = x1;\n",
        "        y = y1c;\n",
        " \n",
        "    # at every iteration first the value\n",
        "    # of for next step is first predicted\n",
        "    # and then corrected.\n",
        "    print(\"The final value of y at x =\",\n",
        "                     int(x), \"is :\", y);\n",
        " \n",
        "# Driver Code\n",
        "if __name__ == '__main__':\n",
        "     \n",
        "    # here x and y are the initial\n",
        "    # given condition, so x=0 and y=0.5\n",
        "    x = 0; y = 0.5;\n",
        " \n",
        "    # final value of x for which y is needed\n",
        "    xn = 1;\n",
        " \n",
        "    # step size\n",
        "    h = 0.2;\n",
        " \n",
        "    printFinalValues(x, xn, y, h);"
      ]
    }
  ]
}