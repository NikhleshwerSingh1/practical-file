{
  "nbformat": 4,
  "nbformat_minor": 0,
  "metadata": {
    "colab": {
      "provenance": [],
      "collapsed_sections": [],
      "authorship_tag": "ABX9TyMsFZ/8ukfCJ7gU2XPeY+md",
      "include_colab_link": true
    },
    "kernelspec": {
      "name": "python3",
      "display_name": "Python 3"
    },
    "language_info": {
      "name": "python"
    },
    "accelerator": "GPU",
    "gpuClass": "standard"
  },
  "cells": [
    {
      "cell_type": "markdown",
      "metadata": {
        "id": "view-in-github",
        "colab_type": "text"
      },
      "source": [
        "<a href=\"https://colab.research.google.com/github/NikhleshwerSingh1/practical-file/blob/main/Jacobi.ipynb\" target=\"_parent\"><img src=\"https://colab.research.google.com/assets/colab-badge.svg\" alt=\"Open In Colab\"/></a>"
      ]
    },
    {
      "cell_type": "code",
      "execution_count": 4,
      "metadata": {
        "colab": {
          "base_uri": "https://localhost:8080/"
        },
        "id": "KnGQF-Wr070b",
        "outputId": "9c5721e8-fb44-47c3-a673-d8b5758814a5"
      },
      "outputs": [
        {
          "output_type": "stream",
          "name": "stdout",
          "text": [
            "[ 1. -1.  1.]\n"
          ]
        }
      ],
      "source": [
        "import numpy as np\n",
        "from scipy.linalg import solve\n",
        "\n",
        "def jacobi(A, b, x, n):\n",
        "\n",
        "    D = np.diag(A)\n",
        "    R = A - np.diagflat(D)\n",
        "    \n",
        "    for i in range(n):\n",
        "        x = (b - np.dot(R,x))/ D\n",
        "    return x\n",
        "\n",
        "'''___Main___'''\n",
        "\n",
        "A = np.array([[3.0, 20.0, -1.0], [2.0, -3.0, 20.0], [20.0, 1.0, -2.0]])\n",
        "b = [-18.0, 25.0, 17.0]\n",
        "x = [1.0, 1.0, 1.0]\n",
        "n = 25\n",
        "\n",
        "x = jacobi(A, b, x, n)\n",
        "print (solve( A, b))"
      ]
    }
  ]
}