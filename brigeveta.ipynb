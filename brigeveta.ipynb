{
  "nbformat": 4,
  "nbformat_minor": 0,
  "metadata": {
    "colab": {
      "name": "brigeveta.ipynb",
      "provenance": [],
      "authorship_tag": "ABX9TyPf6uICtacKQw3Sm8SY/Ku5",
      "include_colab_link": true
    },
    "kernelspec": {
      "name": "python3",
      "display_name": "Python 3"
    },
    "language_info": {
      "name": "python"
    }
  },
  "cells": [
    {
      "cell_type": "markdown",
      "metadata": {
        "id": "view-in-github",
        "colab_type": "text"
      },
      "source": [
        "<a href=\"https://colab.research.google.com/github/NikhleshwerSingh1/practical-file/blob/main/brigeveta.ipynb\" target=\"_parent\"><img src=\"https://colab.research.google.com/assets/colab-badge.svg\" alt=\"Open In Colab\"/></a>"
      ]
    },
    {
      "cell_type": "code",
      "execution_count": 8,
      "metadata": {
        "colab": {
          "base_uri": "https://localhost:8080/"
        },
        "id": "n8P4l6DrvpGh",
        "outputId": "225481e4-2b0f-4830-b013-194dc9a08e2d"
      },
      "outputs": [
        {
          "output_type": "stream",
          "name": "stdout",
          "text": [
            "Enter value of intial approximate root p01\n",
            "Enter vlaue of a01\n",
            "Enter vlaue of a11\n",
            "Enter vlaue of a25\n",
            "Enter vlaue of a34\n",
            "Enter vlaue of a44\n",
            "Enter no. of iterations3\n",
            "Iteration : 1\n",
            "New root is 0.2857142857142857\n"
          ]
        }
      ],
      "source": [
        "def f(x):\n",
        "    return x**4+x**3+5*x**2+4*x+4\n",
        "\n",
        "p0=float(input(\"Enter value of intial approximate root p0\"))\n",
        "a0=float(input(\"Enter vlaue of a0\"))\n",
        "a1=float(input(\"Enter vlaue of a1\"))\n",
        "a2=float(input(\"Enter vlaue of a2\"))\n",
        "a3=float(input(\"Enter vlaue of a3\"))\n",
        "a4=float(input(\"Enter vlaue of a4\"))\n",
        "i=int(input(\"Enter no. of iterations\"))\n",
        "count=1\n",
        "while (count<=1):\n",
        "  b0=a0\n",
        "  b1=a1+p0*b0\n",
        "  b2=a2+p0*b1\n",
        "  b3=a3+p0*b2\n",
        "  b4=a4+p0*b3\n",
        "  c0=b0\n",
        "  c1=b1+p0*c0\n",
        "  c2=b2+p0*c1\n",
        "  c3=b3+p0*c2\n",
        "  p1=p0-(b4/c3)\n",
        "  print(\"Iteration :\",count)\n",
        "  print(\"New root is\",p1)\n",
        "  p0=p1\n",
        "  count=count+1\n",
        "  #print(\"\\t coefficients b0:\",\"b1:\",\"b2:\",\"b3:\",\"b4:\",\"c0:\",\"c1:\",\"c2:\",\"c3:\",b0,b1,b2,b3,b4,c0,c1,c2,c31)"
      ]
    }
  ]
}