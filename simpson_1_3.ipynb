{
  "nbformat": 4,
  "nbformat_minor": 0,
  "metadata": {
    "colab": {
      "provenance": [],
      "authorship_tag": "ABX9TyNVhgIJhCGmdU0b0lRKB5L5",
      "include_colab_link": true
    },
    "kernelspec": {
      "name": "python3",
      "display_name": "Python 3"
    },
    "language_info": {
      "name": "python"
    }
  },
  "cells": [
    {
      "cell_type": "markdown",
      "metadata": {
        "id": "view-in-github",
        "colab_type": "text"
      },
      "source": [
        "<a href=\"https://colab.research.google.com/github/NikhleshwerSingh1/practical-file/blob/main/simpson_1_3.ipynb\" target=\"_parent\"><img src=\"https://colab.research.google.com/assets/colab-badge.svg\" alt=\"Open In Colab\"/></a>"
      ]
    },
    {
      "cell_type": "code",
      "execution_count": 14,
      "metadata": {
        "colab": {
          "base_uri": "https://localhost:8080/"
        },
        "id": "fR_3tyr8UEsK",
        "outputId": "4d549330-cdd4-4dbc-dc93-7a434e123bdc"
      },
      "outputs": [
        {
          "output_type": "stream",
          "name": "stdout",
          "text": [
            "Enter the lower limit: 0\n",
            "Enter the upper limit: 1\n",
            "Enter the length: 6\n",
            "Result by Simpson method is:  0.7775315592002824\n"
          ]
        }
      ],
      "source": [
        "import math\n",
        "a= int(input(\"Enter the lower limit: \"))\n",
        "b= int(input(\"Enter the upper limit: \"))\n",
        "n= int(input(\"Enter the length: \"))\n",
        "\n",
        "def f(x):\n",
        "    return math.sqrt(1-x**2)\n",
        "\n",
        "def simpson13(a,b,n):\n",
        "    h= (b-a)/n\n",
        "    sum= f(a)+f(b)\n",
        "\n",
        "    for i in range(1,n):\n",
        "        c = a+i*h\n",
        "        if i%2==0:\n",
        "            sum+=2*f(c)\n",
        "        else:\n",
        "            sum+=4*f(c)\n",
        "\n",
        "    ans= (h/3)*sum\n",
        "    return ans\n",
        "\n",
        "result= simpson13(a,b,n)\n",
        "print(\"Result by Simpson method is: \",result)"
      ]
    }
  ]
}