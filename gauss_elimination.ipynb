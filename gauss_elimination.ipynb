{
  "nbformat": 4,
  "nbformat_minor": 0,
  "metadata": {
    "colab": {
      "provenance": [],
      "authorship_tag": "ABX9TyM/8IDCix2Yr/1c3ySMG7AU",
      "include_colab_link": true
    },
    "kernelspec": {
      "name": "python3",
      "display_name": "Python 3"
    },
    "language_info": {
      "name": "python"
    }
  },
  "cells": [
    {
      "cell_type": "markdown",
      "metadata": {
        "id": "view-in-github",
        "colab_type": "text"
      },
      "source": [
        "<a href=\"https://colab.research.google.com/github/NikhleshwerSingh1/practical-file/blob/main/gauss_elimination.ipynb\" target=\"_parent\"><img src=\"https://colab.research.google.com/assets/colab-badge.svg\" alt=\"Open In Colab\"/></a>"
      ]
    },
    {
      "cell_type": "code",
      "source": [
        "import numpy as np\n",
        "def gaussElim(a,b):\n",
        "    n = len(b)\n",
        "    # Elimination phase\n",
        "    for k in range(0,n-1):\n",
        "        for i in range(k+1,n):\n",
        "            if a[i,k] != 0.0:\n",
        "                #if not null define λ\n",
        "                lam = a [i,k]/a[k,k]\n",
        "                #we calculate the new row of the matrix\n",
        "                a[i,k+1:n] = a[i,k+1:n] - lam*a[k,k+1:n]\n",
        "                #we update vector b\n",
        "                b[i] = b[i] - lam*b[k]\n",
        "                # backward substitution\n",
        "    for k in range(n-1,-1,-1):\n",
        "        b[k] = (b[k] - np.dot(a[k,k+1:n],b[k+1:n]))/a[k,k]\n",
        "    \n",
        "    return b\n",
        "\n",
        "#initial coefficients\n",
        "a=np.array([[3.0,20.0,-1.0],[2.0,-3.0,20.0],[20.0,1.0,-2.0]])\n",
        "b=np.array([-18.0,25.0,17.0])\n",
        "aOrig = a.copy() # save original matrix A\n",
        "bOrig = b.copy() #save original vector b\n",
        "x = gaussElim(a,b)\n",
        "#print A transformed for check\n",
        "print(a)\n",
        "print(\"x =\\n\",x)\n",
        "#det = np.prod(np.diagonal(a)) #determinant\n",
        "#print(\"\\ndet =\",det)\n",
        "#check result and numerical precision\n",
        "print(\"\\nCheck result: [a]{x} - b =\\n\",np.dot(aOrig,x) - bOrig)"
      ],
      "metadata": {
        "colab": {
          "base_uri": "https://localhost:8080/"
        },
        "id": "G-IyULrR_hSA",
        "outputId": "1bb7f56f-0dca-4bb8-831b-d2ffff0f32a7"
      },
      "execution_count": 6,
      "outputs": [
        {
          "output_type": "stream",
          "name": "stdout",
          "text": [
            "[[   3.           20.           -1.        ]\n",
            " [   2.          -16.33333333   20.66666667]\n",
            " [  20.         -132.33333333 -162.7755102 ]]\n",
            "x =\n",
            " [ 1. -1.  1.]\n",
            "\n",
            "Check result: [a]{x} - b =\n",
            " [0. 0. 0.]\n"
          ]
        }
      ]
    }
  ]
}