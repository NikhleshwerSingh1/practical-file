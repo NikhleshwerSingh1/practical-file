{
  "nbformat": 4,
  "nbformat_minor": 0,
  "metadata": {
    "colab": {
      "name": "Untitled19.ipynb",
      "provenance": [],
      "authorship_tag": "ABX9TyPG3DpoB7d5GfRyUW1r45t8",
      "include_colab_link": true
    },
    "kernelspec": {
      "name": "python3",
      "display_name": "Python 3"
    },
    "language_info": {
      "name": "python"
    }
  },
  "cells": [
    {
      "cell_type": "markdown",
      "metadata": {
        "id": "view-in-github",
        "colab_type": "text"
      },
      "source": [
        "<a href=\"https://colab.research.google.com/github/NikhleshwerSingh1/practical-file/blob/main/newton%20raphson.ipynb\" target=\"_parent\"><img src=\"https://colab.research.google.com/assets/colab-badge.svg\" alt=\"Open In Colab\"/></a>"
      ]
    },
    {
      "cell_type": "code",
      "source": [
        "# Defining Function\n",
        "def f(x):\n",
        "    return x**3 - 5*x - 9\n",
        "\n",
        "# Defining derivative of function\n",
        "def g(x):\n",
        "    return 3*x**2 - 5\n",
        "\n",
        "# Implementing Newton Raphson Method\n",
        "\n",
        "def newtonRaphson(x0,e,N):\n",
        "    print('\\n\\n*** NEWTON RAPHSON METHOD IMPLEMENTATION ***')\n",
        "    step = 1\n",
        "    flag = 1\n",
        "    condition = True\n",
        "    while condition:\n",
        "        if g(x0) == 0.0:\n",
        "            print('Divide by zero error!')\n",
        "            break\n",
        "        \n",
        "        x1 = x0 - f(x0)/g(x0)\n",
        "        print('Iteration-%d, x1 = %0.6f and f(x1) = %0.6f' % (step, x1, f(x1)))\n",
        "        x0 = x1\n",
        "        step = step + 1\n",
        "        \n",
        "        if step > N:\n",
        "            flag = 0\n",
        "            break\n",
        "        \n",
        "        condition = abs(f(x1)) > e\n",
        "    \n",
        "    if flag==1:\n",
        "        print('\\nRequired root is: %0.8f' % x1)\n",
        "    else:\n",
        "        print('\\nNot Convergent.')\n",
        "\n",
        "\n",
        "# Input Section\n",
        "x0 = input('Enter Guess: ')\n",
        "e = input('Tolerable Error: ')\n",
        "N = input('Maximum Step: ')\n",
        "\n",
        "# Converting x0 and e to float\n",
        "x0 = float(x0)\n",
        "e = float(e)\n",
        "\n",
        "# Converting N to integer\n",
        "N = int(N)\n",
        "\n",
        "\n",
        "#Note: You can combine above three section like this\n",
        "# x0 = float(input('Enter Guess: '))\n",
        "# e = float(input('Tolerable Error: '))\n",
        "# N = int(input('Maximum Step: '))\n",
        "\n",
        "# Starting Newton Raphson Method\n",
        "newtonRaphson(x0,e,N)"
      ],
      "metadata": {
        "colab": {
          "base_uri": "https://localhost:8080/"
        },
        "id": "w9D5rEnOVF91",
        "outputId": "30ccd99c-9625-46d8-e565-18138f2cede2"
      },
      "execution_count": 5,
      "outputs": [
        {
          "output_type": "stream",
          "name": "stdout",
          "text": [
            "Enter Guess: 4\n",
            "Tolerable Error: .00001\n",
            "Maximum Step: 20\n",
            "\n",
            "\n",
            "*** NEWTON RAPHSON METHOD IMPLEMENTATION ***\n",
            "Iteration-1, x1 = 3.186047 and f(x1) = 7.410983\n",
            "Iteration-2, x1 = 2.894879 and f(x1) = 0.785638\n",
            "Iteration-3, x1 = 2.855872 and f(x1) = 0.013155\n",
            "Iteration-4, x1 = 2.855197 and f(x1) = 0.000004\n",
            "\n",
            "Required root is: 2.85519674\n"
          ]
        }
      ]
    }
  ]
}