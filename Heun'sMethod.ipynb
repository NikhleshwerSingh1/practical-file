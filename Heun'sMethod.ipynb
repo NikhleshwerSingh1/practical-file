{
  "nbformat": 4,
  "nbformat_minor": 0,
  "metadata": {
    "colab": {
      "provenance": [],
      "authorship_tag": "ABX9TyM5nIipucKa2wqHD0bLTXCG",
      "include_colab_link": true
    },
    "kernelspec": {
      "name": "python3",
      "display_name": "Python 3"
    },
    "language_info": {
      "name": "python"
    },
    "accelerator": "GPU",
    "gpuClass": "standard"
  },
  "cells": [
    {
      "cell_type": "markdown",
      "metadata": {
        "id": "view-in-github",
        "colab_type": "text"
      },
      "source": [
        "<a href=\"https://colab.research.google.com/github/NikhleshwerSingh1/practical-file/blob/main/Heun'sMethod.ipynb\" target=\"_parent\"><img src=\"https://colab.research.google.com/assets/colab-badge.svg\" alt=\"Open In Colab\"/></a>"
      ]
    },
    {
      "cell_type": "code",
      "execution_count": 1,
      "metadata": {
        "colab": {
          "base_uri": "https://localhost:8080/"
        },
        "id": "JuoLl9OWq_l6",
        "outputId": "5a7234d3-fd76-4352-97a6-1cf8777a698a"
      },
      "outputs": [
        {
          "output_type": "stream",
          "name": "stdout",
          "text": [
            "Enter initial value of x:0\n",
            "Enter initial value of y:1\n",
            "Enter the value for h:0.2\n",
            "Enter the value of x:2\n",
            "y= 2.0 \tx= 0.2\n",
            "y= 3.0 \tx= 0.4\n",
            "y= 4.0 \tx= 0.6000000000000001\n",
            "y= 5.0 \tx= 0.8\n",
            "y= 6.0 \tx= 1.0\n",
            "y= 7.0 \tx= 1.2\n",
            "y= 8.0 \tx= 1.4\n",
            "y= 9.0 \tx= 1.5999999999999999\n",
            "y= 10.0 \tx= 1.7999999999999998\n",
            "y= 11.0 \tx= 1.9999999999999998\n"
          ]
        }
      ],
      "source": [
        "#function on which the value is to be calulated\n",
        "def f(x,y):\n",
        "  return x+y-2\n",
        "#taking the initial values of x and y\n",
        "x=float(input(\"Enter initial value of x:\"))\n",
        "y=float(input(\"Enter initial value of y:\"))\n",
        "#taking the step length\n",
        "h=float(input(\"Enter the value for h:\"))\n",
        "#takign the value of x for which y is to be calulated\n",
        "xn=float(input(\"Enter the value of x:\"))\n",
        "#calculating and printing the vlues using RK 2nd order(Huen's Method)\n",
        "while x+h<=xn:\n",
        "  l=(h/2)*(f(x,y)+f(x+h,y+h*f(x,y)))\n",
        "  y=y+1\n",
        "  x=x+h\n",
        "  print(\"y=\",y,\"\\tx=\",x)"
      ]
    }
  ]
}