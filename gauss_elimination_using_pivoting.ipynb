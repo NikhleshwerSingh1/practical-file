{
  "nbformat": 4,
  "nbformat_minor": 0,
  "metadata": {
    "colab": {
      "name": "gauss elimination using pivoting.ipynb",
      "provenance": [],
      "authorship_tag": "ABX9TyPrQZ29gAu+qTqEh9Ail97l",
      "include_colab_link": true
    },
    "kernelspec": {
      "name": "python3",
      "display_name": "Python 3"
    },
    "language_info": {
      "name": "python"
    }
  },
  "cells": [
    {
      "cell_type": "markdown",
      "metadata": {
        "id": "view-in-github",
        "colab_type": "text"
      },
      "source": [
        "<a href=\"https://colab.research.google.com/github/NikhleshwerSingh1/practical-file/blob/main/gauss_elimination_using_pivoting.ipynb\" target=\"_parent\"><img src=\"https://colab.research.google.com/assets/colab-badge.svg\" alt=\"Open In Colab\"/></a>"
      ]
    },
    {
      "cell_type": "code",
      "execution_count": 1,
      "metadata": {
        "colab": {
          "base_uri": "https://localhost:8080/"
        },
        "id": "v8OqowjR3qUo",
        "outputId": "011bd84d-7440-44c4-cf0f-cbcb2e22a2fd"
      },
      "outputs": [
        {
          "output_type": "stream",
          "name": "stdout",
          "text": [
            "Solution by NumPy:\n",
            "[ 0.38947368  0.49473684 -0.10877193  0.12982456  0.83157895]\n",
            "[[ 5.00000000e+00  1.00000000e+00  0.00000000e+00  3.00000000e+00\n",
            "  -1.00000000e+00]\n",
            " [ 0.00000000e+00  3.00000000e+00  4.00000000e+00  1.00000000e+00\n",
            "   7.00000000e+00]\n",
            " [ 0.00000000e+00  0.00000000e+00  4.50000000e+00  0.00000000e+00\n",
            "   6.00000000e+00]\n",
            " [ 0.00000000e+00  4.44089210e-16  0.00000000e+00  3.52702703e+00\n",
            "   2.95945946e+00]\n",
            " [ 0.00000000e+00  0.00000000e+00  0.00000000e+00  0.00000000e+00\n",
            "   2.11354647e+00]]\n",
            "[2.         7.         4.5        2.91891892 1.75758075]\n",
            "The solution of the system is:\n",
            "[ 0.38947368  0.49473684 -0.10877193  0.12982456  0.83157895]\n"
          ]
        }
      ],
      "source": [
        "from numpy import array, zeros, fabs, linalg\n",
        "\n",
        "a = array([[0, 6, -1, 2, 2],\n",
        "           [0, 3, 4, 1, 7],\n",
        "           [5, 1, 0, 3, -1],\n",
        "           [3, 1, 3, 0, 2],\n",
        "           [4, 4, 1, -2, 1]], float)\n",
        "#the b matrix constant terms of the equations \n",
        "b = array([5, 7, 2, 3, 4], float)\n",
        "\n",
        "print(\"Solution by NumPy:\")\n",
        "\n",
        "\n",
        "print(linalg.solve(a, b))\n",
        "\n",
        "n = len(b)\n",
        "x = zeros(n, float)\n",
        "\n",
        "#first loop specifys the fixed row\n",
        "for k in range(n-1):\n",
        "    if fabs(a[k,k]) < 1.0e-12:\n",
        "        \n",
        "        for i in range(k+1, n):\n",
        "            if fabs(a[i,k]) > fabs(a[k,k]):\n",
        "                a[[k,i]] = a[[i,k]]\n",
        "                b[[k,i]] = b[[i,k]]\n",
        "                break\n",
        "\n",
        " #applies the elimination below the fixed row\n",
        "\n",
        "    for i in range(k+1,n):\n",
        "        if a[i,k] == 0:continue\n",
        "\n",
        "        factor = a[k,k]/a[i,k]\n",
        "        for j in range(k,n):\n",
        "            a[i,j] = a[k,j] - a[i,j]*factor\n",
        "            #we also calculate the b vector of each row\n",
        "        b[i] = b[k] - b[i]*factor\n",
        "print(a)\n",
        "print(b)\n",
        "\n",
        "\n",
        "x[n-1] = b[n-1] / a[n-1, n-1]\n",
        "for i in range(n-2, -1, -1):\n",
        "    sum_ax = 0\n",
        "  \n",
        "    for j in range(i+1, n):\n",
        "        sum_ax += a[i,j] * x[j]\n",
        "        \n",
        "    x[i] = (b[i] - sum_ax) / a[i,i]\n",
        "\n",
        "print(\"The solution of the system is:\")\n",
        "print(x)"
      ]
    }
  ]
}